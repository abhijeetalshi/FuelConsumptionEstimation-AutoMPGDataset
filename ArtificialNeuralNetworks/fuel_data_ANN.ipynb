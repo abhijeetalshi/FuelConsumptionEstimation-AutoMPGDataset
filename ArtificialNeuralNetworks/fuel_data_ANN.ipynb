{
 "cells": [
  {
   "cell_type": "code",
   "execution_count": 1,
   "metadata": {
    "collapsed": true
   },
   "outputs": [],
   "source": [
    "import matplotlib.pyplot as plt\n",
    "import numpy as np\n",
    "from sklearn.metrics import mean_squared_error, r2_score, mean_absolute_error\n",
    "from sklearn.neural_network import MLPRegressor\n",
    "from sklearn.model_selection import train_test_split, cross_val_score \n",
    "import matplotlib.pyplot as plt "
   ]
  },
  {
   "cell_type": "markdown",
   "metadata": {},
   "source": [
    "# Importing and splitting the data "
   ]
  },
  {
   "cell_type": "code",
   "execution_count": 3,
   "metadata": {},
   "outputs": [
    {
     "name": "stdout",
     "output_type": "stream",
     "text": [
      "(294L, 7L)\n",
      "(98L, 7L)\n",
      "(294L,)\n",
      "(98L,)\n"
     ]
    }
   ],
   "source": [
    "data = np.genfromtxt(\"fuel_data.csv\", delimiter = ',') \n",
    "X = data.T[0:7].T \n",
    "Y = data.T[-1].T \n",
    "\n",
    "#Y = np.log(Y)       Output tranformation\n",
    "\n",
    "X_train, X_test, Y_train, Y_test = train_test_split(X, Y, test_size=0.25, random_state= 42) \n",
    "\n",
    "print np.shape(X_train) \n",
    "print np.shape(X_test) \n",
    "print np.shape(Y_train) \n",
    "print np.shape(Y_test) "
   ]
  },
  {
   "cell_type": "markdown",
   "metadata": {},
   "source": [
    "# Using cross validation to hypertune the parameters "
   ]
  },
  {
   "cell_type": "code",
   "execution_count": 46,
   "metadata": {},
   "outputs": [],
   "source": [
    "cv = [] \n",
    "neurons = [] \n",
    "for i in range(2,20): \n",
    "    ann=MLPRegressor(hidden_layer_sizes=(i,), activation='relu', solver='lbfgs', batch_size='auto', power_t=0.5, max_iter=1000, shuffle= True, random_state=42, tol=0.001, verbose=False, warm_start=True, validation_fraction=0.4)\n",
    "    cv.append(np.mean(-cross_val_score(ann, X, Y, cv = 4, scoring = 'neg_mean_squared_error'))) \n",
    "    neurons.append(i)                   "
   ]
  },
  {
   "cell_type": "code",
   "execution_count": 49,
   "metadata": {
    "scrolled": true
   },
   "outputs": [
    {
     "name": "stdout",
     "output_type": "stream",
     "text": [
      "9.61887433139\n",
      "12\n"
     ]
    },
    {
     "data": {
      "image/png": "[encoded data removed]",
      "text/plain": [
       "<matplotlib.figure.Figure at 0xcda79b0>"
      ]
     },
     "metadata": {},
     "output_type": "display_data"
    }
   ],
   "source": [
    "print min(cv)     \n",
    "print neurons[cv.index(min(cv))]        \n",
    "plt.plot(neurons, cv) \n",
    "plt.xlabel('number of hidden units')\n",
    "plt.ylabel('mse (cross validation)')\n",
    "plt.title('cross validation for hidden units optimization')\n",
    "plt.show()   "
   ]
  },
  {
   "cell_type": "markdown",
   "metadata": {},
   "source": [
    "# Creating the model"
   ]
  },
  {
   "cell_type": "code",
   "execution_count": 12,
   "metadata": {
    "collapsed": true
   },
   "outputs": [],
   "source": [
    "ann=MLPRegressor(hidden_layer_sizes=(12,), activation='relu', solver='lbfgs', batch_size='auto', power_t=0.5, max_iter=1000, random_state= 42, tol=0.001)"
   ]
  },
  {
   "cell_type": "code",
   "execution_count": 37,
   "metadata": {
    "scrolled": true
   },
   "outputs": [
    {
     "data": {
      "text/plain": [
       "MLPRegressor(activation='relu', alpha=0.0001, batch_size='auto', beta_1=0.9,\n",
       "       beta_2=0.999, early_stopping=False, epsilon=1e-08,\n",
       "       hidden_layer_sizes=(12,), learning_rate='constant',\n",
       "       learning_rate_init=0.001, max_iter=1000, momentum=0.9,\n",
       "       nesterovs_momentum=True, power_t=0.5, random_state=42, shuffle=True,\n",
       "       solver='lbfgs', tol=0.001, validation_fraction=0.1, verbose=False,\n",
       "       warm_start=False)"
      ]
     },
     "execution_count": 37,
     "metadata": {},
     "output_type": "execute_result"
    }
   ],
   "source": [
    "ann.fit(X_train,Y_train)     #fitting the data   "
   ]
  },
  {
   "cell_type": "markdown",
   "metadata": {},
   "source": [
    "# Getting the predictions"
   ]
  },
  {
   "cell_type": "code",
   "execution_count": 41,
   "metadata": {},
   "outputs": [],
   "source": [
    "Y_pred = ann.predict(X_test)  \n",
    "Y_pred_train = ann.predict(X_train)    "
   ]
  },
  {
   "cell_type": "markdown",
   "metadata": {},
   "source": [
    "# Getting the relation between train and test error for different hidden units"
   ]
  },
  {
   "cell_type": "code",
   "execution_count": 50,
   "metadata": {
    "collapsed": true
   },
   "outputs": [],
   "source": [
    "r2 = [] \n",
    "neurons = []\n",
    "r2_test = [] \n",
    "for i in range(1,50):\n",
    "    ann=MLPRegressor(hidden_layer_sizes=(i,), activation='relu', solver='lbfgs', alpha=10, batch_size='auto', power_t=0.5, max_iter=1000, shuffle= True, random_state=None, tol=0.0001, verbose=False, warm_start=True, validation_fraction=0.4)\n",
    "    ann.fit(X_train,Y_train)     \n",
    "    Y_pred = ann.predict(X_test)  \n",
    "    Y_pred_train = ann.predict(X_train)\n",
    "    r2.append(r2_score(Y_train,Y_pred_train)) \n",
    "    r2_test.append(r2_score(Y_test,Y_pred))\n",
    "    neurons.append(i)  "
   ]
  },
  {
   "cell_type": "markdown",
   "metadata": {},
   "source": [
    "# MSE and R2"
   ]
  },
  {
   "cell_type": "code",
   "execution_count": 51,
   "metadata": {
    "scrolled": false
   },
   "outputs": [
    {
     "data": {
      "image/png": "[encoded data removed]",
      "text/plain": [
       "<matplotlib.figure.Figure at 0xce08b00>"
      ]
     },
     "metadata": {},
     "output_type": "display_data"
    }
   ],
   "source": [
    "plt.plot(neurons,r2, label = 'train')\n",
    "plt.plot(neurons,r2_test, label = 'test')\n",
    "plt.ylim((0,1))\n",
    "plt.legend(loc = 'center right')    \n",
    "plt.show() \n",
    "#print neurons[r2.index(max(r2))]\n",
    "#print neurons[r2_test.index(max(r2_test))]"
   ]
  },
  {
   "cell_type": "markdown",
   "metadata": {},
   "source": [
    "# MSE and R2"
   ]
  },
  {
   "cell_type": "code",
   "execution_count": 16,
   "metadata": {},
   "outputs": [
    {
     "name": "stdout",
     "output_type": "stream",
     "text": [
      "Mean squared error (train): 8.59174989\n",
      "R2(train): 0.86\n"
     ]
    }
   ],
   "source": [
    "print(\"Mean squared error (train): %.8f\"\n",
    "     % mean_squared_error(Y_train,Y_pred_train)) \n",
    "\n",
    "print(\"R2(train): %.2f\"\n",
    "      % r2_score(Y_train,Y_pred_train)) "
   ]
  },
  {
   "cell_type": "code",
   "execution_count": 17,
   "metadata": {},
   "outputs": [
    {
     "name": "stdout",
     "output_type": "stream",
     "text": [
      "Mean squared error (test): 8.10065913\n",
      "R2(test): 0.87\n"
     ]
    }
   ],
   "source": [
    "print(\"Mean squared error (test): %.8f\"\n",
    "      % mean_squared_error(Y_test,Y_pred)) \n",
    "print(\"R2(test): %.2f\"\n",
    "      % r2_score(Y_test,Y_pred))  "
   ]
  },
  {
   "cell_type": "markdown",
   "metadata": {},
   "source": [
    "# Mean Absolute Error"
   ]
  },
  {
   "cell_type": "code",
   "execution_count": 18,
   "metadata": {
    "collapsed": true
   },
   "outputs": [],
   "source": [
    "def max_abs_error(data1,data2):\n",
    "    Y_error = []\n",
    "    for i in range(len(data1)):\n",
    "        Y_error.append(100*(abs(data1[i] - data2[i])/data1[i]))\n",
    "    return Y_error"
   ]
  },
  {
   "cell_type": "code",
   "execution_count": 19,
   "metadata": {},
   "outputs": [
    {
     "name": "stdout",
     "output_type": "stream",
     "text": [
      "57.8545416923\n",
      "50.079604622\n"
     ]
    }
   ],
   "source": [
    "MAE_test = max_abs_error(Y_test, Y_pred)\n",
    "MAE_train = max_abs_error(Y_train, Y_pred_train)\n",
    "print max(MAE_test)\n",
    "print max(MAE_train) "
   ]
  },
  {
   "cell_type": "markdown",
   "metadata": {},
   "source": [
    "# Maximum Absolute Error"
   ]
  },
  {
   "cell_type": "code",
   "execution_count": 16,
   "metadata": {},
   "outputs": [
    {
     "name": "stdout",
     "output_type": "stream",
     "text": [
      "mean_absolute_error(test): 2.43\n",
      "mean_absolute_error(train): 2.55\n"
     ]
    }
   ],
   "source": [
    "print(\"mean_absolute_error(test): %.2f\"\n",
    "      % mean_absolute_error(Y_test, Y_pred))\n",
    "\n",
    "print(\"mean_absolute_error(train): %.2f\"\n",
    "      % mean_absolute_error(Y_train, Y_pred_train))   "
   ]
  }
 ],
 "metadata": {
  "kernelspec": {
   "display_name": "Python 2",
   "language": "python",
   "name": "python2"
  },
  "language_info": {
   "codemirror_mode": {
    "name": "ipython",
    "version": 2
   },
   "file_extension": ".py",
   "mimetype": "text/x-python",
   "name": "python",
   "nbconvert_exporter": "python",
   "pygments_lexer": "ipython2",
   "version": "2.7.14"
  }
 },
 "nbformat": 4,
 "nbformat_minor": 2
}
