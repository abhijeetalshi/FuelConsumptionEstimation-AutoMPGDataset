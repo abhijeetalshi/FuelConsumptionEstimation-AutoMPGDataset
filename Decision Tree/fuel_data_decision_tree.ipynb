{
 "cells": [
  {
   "cell_type": "code",
   "execution_count": 1,
   "metadata": {
    "collapsed": true
   },
   "outputs": [],
   "source": [
    "import matplotlib.pyplot as plt\n",
    "import numpy as np\n",
    "from sklearn.metrics import mean_squared_error, r2_score, mean_absolute_error\n",
    "from sklearn.model_selection import train_test_split, cross_val_score\n",
    "from sklearn import tree"
   ]
  },
  {
   "cell_type": "markdown",
   "metadata": {},
   "source": [
    "# Importing and splitting the data "
   ]
  },
  {
   "cell_type": "code",
   "execution_count": 2,
   "metadata": {},
   "outputs": [
    {
     "name": "stdout",
     "output_type": "stream",
     "text": [
      "(235L, 7L)\n",
      "(157L, 7L)\n",
      "(235L,)\n",
      "(157L,)\n"
     ]
    }
   ],
   "source": [
    "data = np.genfromtxt(\"fuel_data.csv\", delimiter = ',') \n",
    "X = data.T[0:7].T\n",
    "Y = data.T[-1].T\n",
    "#np.random.shuffle(data) \n",
    "#data = data \n",
    "#Y = np.arctan(Y)\n",
    "#print Y\n",
    "#print X\n",
    "\n",
    "X_train, X_test, Y_train, Y_test = train_test_split(X, Y, test_size=0.4, random_state= 42)\n",
    "\n",
    "len(data)\n",
    "\n",
    "#X_train = X[0:300]\n",
    "#X_test = X[300:len(data)]\n",
    "#Y_train = Y[0:300]\n",
    "#Y_test = Y[300:len(data)]\n",
    "\n",
    "print np.shape(X_train)\n",
    "print np.shape(X_test)\n",
    "print np.shape(Y_train)\n",
    "print np.shape(Y_test)"
   ]
  },
  {
   "cell_type": "markdown",
   "metadata": {},
   "source": [
    "# Using cross validation for tuning the hyperparameters "
   ]
  },
  {
   "cell_type": "code",
   "execution_count": 3,
   "metadata": {
    "collapsed": true
   },
   "outputs": [],
   "source": [
    "cv = []\n",
    "d_tr = []\n",
    "for d in range(1,8):\n",
    "    clf = tree.DecisionTreeRegressor(criterion = 'mae',max_depth = d, random_state = 42)\n",
    "    cv.append(np.mean(-cross_val_score(clf, X, Y, scoring = 'neg_mean_squared_error')))\n",
    "    d_tr.append(d) "
   ]
  },
  {
   "cell_type": "code",
   "execution_count": 4,
   "metadata": {},
   "outputs": [
    {
     "data": {
      "image/png": "[encoded data removed]",
      "text/plain": [
       "<matplotlib.figure.Figure at 0xa07a978>"
      ]
     },
     "metadata": {},
     "output_type": "display_data"
    },
    {
     "data": {
      "text/plain": [
       "5"
      ]
     },
     "execution_count": 4,
     "metadata": {},
     "output_type": "execute_result"
    }
   ],
   "source": [
    "plt.plot(d_tr,cv) \n",
    "plt.title('Cross Validation Accuracy vs depth')\n",
    "plt.xlabel('depth') \n",
    "plt.ylabel('Cross Validation mse') \n",
    "plt.show() \n",
    "d_tr[cv.index(min(cv))]   "
   ]
  },
  {
   "cell_type": "markdown",
   "metadata": {},
   "source": [
    "# Creating the model class for regression"
   ]
  },
  {
   "cell_type": "code",
   "execution_count": 5,
   "metadata": {
    "collapsed": true
   },
   "outputs": [],
   "source": [
    "clf = tree.DecisionTreeRegressor(criterion = 'mse',max_depth = 5)"
   ]
  },
  {
   "cell_type": "code",
   "execution_count": 6,
   "metadata": {},
   "outputs": [
    {
     "data": {
      "text/plain": [
       "DecisionTreeRegressor(criterion='mse', max_depth=5, max_features=None,\n",
       "           max_leaf_nodes=None, min_impurity_decrease=0.0,\n",
       "           min_impurity_split=None, min_samples_leaf=1,\n",
       "           min_samples_split=2, min_weight_fraction_leaf=0.0,\n",
       "           presort=False, random_state=None, splitter='best')"
      ]
     },
     "execution_count": 6,
     "metadata": {},
     "output_type": "execute_result"
    }
   ],
   "source": [
    "clf.fit(X_train,Y_train) "
   ]
  },
  {
   "cell_type": "markdown",
   "metadata": {},
   "source": [
    "# Getting the importance of indiviual features"
   ]
  },
  {
   "cell_type": "code",
   "execution_count": 7,
   "metadata": {
    "scrolled": true
   },
   "outputs": [
    {
     "data": {
      "text/plain": [
       "array([ 0.62259517,  0.02485179,  0.11925522,  0.11207977,  0.00402771,\n",
       "        0.11273562,  0.00445472])"
      ]
     },
     "execution_count": 7,
     "metadata": {},
     "output_type": "execute_result"
    }
   ],
   "source": [
    "clf.feature_importances_ "
   ]
  },
  {
   "cell_type": "markdown",
   "metadata": {},
   "source": [
    "# Getting the predictions"
   ]
  },
  {
   "cell_type": "code",
   "execution_count": 8,
   "metadata": {},
   "outputs": [
    {
     "name": "stdout",
     "output_type": "stream",
     "text": [
      "[ 26.2         15.09375     16.53846154  27.26        23.63076923\n",
      "  16.53846154  27.26        28.26        29.5         26.2       ]\n",
      "[ 27.   16.5  14.   28.   24.   18.   28.1  27.   29.   26. ]\n"
     ]
    }
   ],
   "source": [
    "Y_pred = clf.predict(X_test)\n",
    "Y_pred_train = clf.predict(X_train)\n",
    "print Y_pred_train[20:30]\n",
    "print Y_train[20:30]"
   ]
  },
  {
   "cell_type": "markdown",
   "metadata": {},
   "source": [
    "# MSE and R2"
   ]
  },
  {
   "cell_type": "code",
   "execution_count": 9,
   "metadata": {},
   "outputs": [
    {
     "name": "stdout",
     "output_type": "stream",
     "text": [
      "Mean squared error (train): 3.34289841\n",
      "R2(train): 0.94\n"
     ]
    }
   ],
   "source": [
    "print(\"Mean squared error (train): %.8f\"\n",
    "      % mean_squared_error(Y_train,Y_pred_train))\n",
    "print(\"R2(train): %.2f\"\n",
    "      % r2_score(Y_train,Y_pred_train))"
   ]
  },
  {
   "cell_type": "code",
   "execution_count": 10,
   "metadata": {},
   "outputs": [
    {
     "name": "stdout",
     "output_type": "stream",
     "text": [
      "Mean squared error (test): 10.42550849\n",
      "R2(test): 0.83\n"
     ]
    }
   ],
   "source": [
    "print(\"Mean squared error (test): %.8f\"\n",
    "      % mean_squared_error(Y_test,Y_pred))\n",
    "print(\"R2(test): %.2f\"\n",
    "      % r2_score(Y_test,Y_pred))"
   ]
  },
  {
   "cell_type": "markdown",
   "metadata": {},
   "source": [
    "# Maximum Absolute Error"
   ]
  },
  {
   "cell_type": "code",
   "execution_count": 11,
   "metadata": {
    "collapsed": true
   },
   "outputs": [],
   "source": [
    "def max_abs_error(data1,data2):\n",
    "    Y_error = []\n",
    "    for i in range(len(data1)):\n",
    "        Y_error.append(100*abs(data1[i] - data2[i])/data1[i])  \n",
    "    return Y_error"
   ]
  },
  {
   "cell_type": "code",
   "execution_count": 12,
   "metadata": {},
   "outputs": [
    {
     "name": "stdout",
     "output_type": "stream",
     "text": [
      "57.0\n",
      "21.2132352941\n"
     ]
    }
   ],
   "source": [
    "MAE_test = max_abs_error(Y_test, Y_pred)\n",
    "MAE_train = max_abs_error(Y_train, Y_pred_train)\n",
    "print max(MAE_test)\n",
    "print max(MAE_train)"
   ]
  },
  {
   "cell_type": "markdown",
   "metadata": {},
   "source": [
    "# Mean Absolute Error"
   ]
  },
  {
   "cell_type": "code",
   "execution_count": 13,
   "metadata": {},
   "outputs": [
    {
     "name": "stdout",
     "output_type": "stream",
     "text": [
      "mean_absolute_error(test): 2.35\n",
      "mean_absolute_error(train): 1.33\n"
     ]
    }
   ],
   "source": [
    "print(\"mean_absolute_error(test): %.2f\"\n",
    "      % mean_absolute_error(Y_test, Y_pred)) \n",
    "\n",
    "print(\"mean_absolute_error(train): %.2f\"\n",
    "      % mean_absolute_error(Y_train, Y_pred_train))   "
   ]
  }
 ],
 "metadata": {
  "kernelspec": {
   "display_name": "Python 2",
   "language": "python",
   "name": "python2"
  },
  "language_info": {
   "codemirror_mode": {
    "name": "ipython",
    "version": 2
   },
   "file_extension": ".py",
   "mimetype": "text/x-python",
   "name": "python",
   "nbconvert_exporter": "python",
   "pygments_lexer": "ipython2",
   "version": "2.7.14"
  }
 },
 "nbformat": 4,
 "nbformat_minor": 2
}
