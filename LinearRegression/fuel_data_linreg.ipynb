{
 "cells": [
  {
   "cell_type": "code",
   "execution_count": 1,
   "metadata": {
    "collapsed": true
   },
   "outputs": [],
   "source": [
    "import matplotlib.pyplot as plt\n",
    "import numpy as np\n",
    "from sklearn import datasets, linear_model\n",
    "from sklearn.metrics import mean_squared_error, r2_score, mean_absolute_error\n",
    "from sklearn.model_selection import train_test_split, cross_validate, cross_val_score"
   ]
  },
  {
   "cell_type": "markdown",
   "metadata": {},
   "source": [
    "# Importing and splitting the data "
   ]
  },
  {
   "cell_type": "code",
   "execution_count": 2,
   "metadata": {},
   "outputs": [
    {
     "name": "stdout",
     "output_type": "stream",
     "text": [
      "(294L, 7L)\n",
      "(98L, 7L)\n",
      "(294L,)\n",
      "(98L,)\n"
     ]
    }
   ],
   "source": [
    "data = np.genfromtxt(\"fuel_data.csv\", delimiter = ',') \n",
    "\n",
    "X = data.T[0:7].T\n",
    "Y = data.T[-1].T\n",
    "\n",
    "#Splitting data into test and train\n",
    "X_train, X_test, Y_train, Y_test = train_test_split(X, Y, test_size=0.25, random_state=20)\n",
    "\n",
    "print np.shape(X_train)\n",
    "print np.shape(X_test)\n",
    "print np.shape(Y_train)\n",
    "print np.shape(Y_test)"
   ]
  },
  {
   "cell_type": "markdown",
   "metadata": {},
   "source": [
    "# Creating the regression model"
   ]
  },
  {
   "cell_type": "code",
   "execution_count": 3,
   "metadata": {
    "collapsed": true
   },
   "outputs": [],
   "source": [
    "regr = linear_model.LinearRegression() "
   ]
  },
  {
   "cell_type": "code",
   "execution_count": 4,
   "metadata": {},
   "outputs": [
    {
     "data": {
      "text/plain": [
       "LinearRegression(copy_X=True, fit_intercept=True, n_jobs=1, normalize=False)"
      ]
     },
     "execution_count": 4,
     "metadata": {},
     "output_type": "execute_result"
    }
   ],
   "source": [
    "regr.fit(X_train,Y_train)"
   ]
  },
  {
   "cell_type": "markdown",
   "metadata": {},
   "source": [
    "# Getting the predictions"
   ]
  },
  {
   "cell_type": "code",
   "execution_count": 5,
   "metadata": {
    "collapsed": true
   },
   "outputs": [],
   "source": [
    "Y_pred = regr.predict(X_test)\n",
    "Y_pred_train = regr.predict(X_train) "
   ]
  },
  {
   "cell_type": "markdown",
   "metadata": {},
   "source": [
    "# Cross Validation"
   ]
  },
  {
   "cell_type": "code",
   "execution_count": 6,
   "metadata": {
    "scrolled": true
   },
   "outputs": [
    {
     "name": "stdout",
     "output_type": "stream",
     "text": [
      "0.805639410302\n"
     ]
    }
   ],
   "source": [
    "scores = cross_val_score(regr, X, Y, cv = 4)\n",
    "print np.mean(scores) "
   ]
  },
  {
   "cell_type": "markdown",
   "metadata": {},
   "source": [
    "# MSE and R2"
   ]
  },
  {
   "cell_type": "code",
   "execution_count": 7,
   "metadata": {
    "scrolled": true
   },
   "outputs": [
    {
     "name": "stdout",
     "output_type": "stream",
     "text": [
      "Mean squared error (train): 10.26\n",
      "R2(train): 0.83\n"
     ]
    }
   ],
   "source": [
    "print(\"Mean squared error (train): %.2f\"\n",
    "      % mean_squared_error(Y_train,Y_pred_train))\n",
    "print(\"R2(train): %.2f\"\n",
    "      % r2_score(Y_train,Y_pred_train))  "
   ]
  },
  {
   "cell_type": "code",
   "execution_count": 8,
   "metadata": {},
   "outputs": [
    {
     "name": "stdout",
     "output_type": "stream",
     "text": [
      "Mean squared error (test): 13.00\n",
      "R2(test): 0.79\n"
     ]
    }
   ],
   "source": [
    "print(\"Mean squared error (test): %.2f\"\n",
    "      % mean_squared_error(Y_test, Y_pred)) \n",
    "print(\"R2(test): %.2f\"\n",
    "      % r2_score(Y_test,Y_pred))  "
   ]
  },
  {
   "cell_type": "markdown",
   "metadata": {},
   "source": [
    "# Mean Absolute Error"
   ]
  },
  {
   "cell_type": "code",
   "execution_count": 9,
   "metadata": {},
   "outputs": [
    {
     "name": "stdout",
     "output_type": "stream",
     "text": [
      "mean_absolute_error(test): 2.77\n",
      "mean_absolute_error(train): 2.43\n"
     ]
    }
   ],
   "source": [
    "print(\"mean_absolute_error(test): %.2f\"\n",
    "      % mean_absolute_error(Y_test, Y_pred))\n",
    "\n",
    "print(\"mean_absolute_error(train): %.2f\"\n",
    "      % mean_absolute_error(Y_train, Y_pred_train))"
   ]
  },
  {
   "cell_type": "markdown",
   "metadata": {},
   "source": [
    "# Maximum Absolute Error"
   ]
  },
  {
   "cell_type": "code",
   "execution_count": 10,
   "metadata": {
    "collapsed": true
   },
   "outputs": [],
   "source": [
    "def max_abs_error(data1,data2):\n",
    "    Y_error = []\n",
    "    for i in range(len(Y_test)):\n",
    "        Y_error.append(100*(abs(data1[i] - data2[i])/data1[i]))\n",
    "    return Y_error"
   ]
  },
  {
   "cell_type": "code",
   "execution_count": 11,
   "metadata": {
    "scrolled": true
   },
   "outputs": [
    {
     "name": "stdout",
     "output_type": "stream",
     "text": [
      "53.4973265952\n",
      "51.3445415501\n"
     ]
    }
   ],
   "source": [
    "MAE_test = max_abs_error(Y_test, Y_pred)\n",
    "MAE_train = max_abs_error(Y_train, Y_pred_train)\n",
    "print max(MAE_test) \n",
    "print max(MAE_train) "
   ]
  },
  {
   "cell_type": "markdown",
   "metadata": {},
   "source": [
    "# Cofficients of regression"
   ]
  },
  {
   "cell_type": "code",
   "execution_count": 12,
   "metadata": {
    "scrolled": true
   },
   "outputs": [
    {
     "name": "stdout",
     "output_type": "stream",
     "text": [
      "('Coefficients: \\n', array([-0.54312507,  0.02686998, -0.01002096, -0.00722013,  0.13258509,\n",
      "        0.77755046,  1.59068595]))\n"
     ]
    }
   ],
   "source": [
    "print('Coefficients: \\n', regr.coef_)"
   ]
  }
 ],
 "metadata": {
  "kernelspec": {
   "display_name": "Python 2",
   "language": "python",
   "name": "python2"
  },
  "language_info": {
   "codemirror_mode": {
    "name": "ipython",
    "version": 2
   },
   "file_extension": ".py",
   "mimetype": "text/x-python",
   "name": "python",
   "nbconvert_exporter": "python",
   "pygments_lexer": "ipython2",
   "version": "2.7.14"
  }
 },
 "nbformat": 4,
 "nbformat_minor": 2
}
