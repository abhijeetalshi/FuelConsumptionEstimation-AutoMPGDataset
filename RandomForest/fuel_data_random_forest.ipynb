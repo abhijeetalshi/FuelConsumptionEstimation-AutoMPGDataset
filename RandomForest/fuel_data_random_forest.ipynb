{
 "cells": [
  {
   "cell_type": "code",
   "execution_count": 1,
   "metadata": {
    "collapsed": true
   },
   "outputs": [],
   "source": [
    "import matplotlib.pyplot as plt\n",
    "import numpy as np\n",
    "from sklearn.metrics import mean_squared_error, r2_score, mean_absolute_error\n",
    "from sklearn.ensemble import RandomForestRegressor \n",
    "from sklearn.model_selection import train_test_split, cross_val_score "
   ]
  },
  {
   "cell_type": "markdown",
   "metadata": {},
   "source": [
    "# Importing and splitting the data "
   ]
  },
  {
   "cell_type": "code",
   "execution_count": 2,
   "metadata": {},
   "outputs": [
    {
     "name": "stdout",
     "output_type": "stream",
     "text": [
      "(294L, 7L)\n",
      "(98L, 7L)\n",
      "(294L,)\n",
      "(98L,)\n"
     ]
    }
   ],
   "source": [
    "data = np.genfromtxt(\"fuel_data.csv\", delimiter = ',') \n",
    "X = data.T[0:7].T \n",
    "Y = data.T[-1].T \n",
    "\n",
    "X_train, X_test, Y_train, Y_test = train_test_split(X, Y, test_size=0.25, random_state= 42)  \n",
    "\n",
    "print np.shape(X_train) \n",
    "print np.shape(X_test) \n",
    "print np.shape(Y_train) \n",
    "print np.shape(Y_test) "
   ]
  },
  {
   "cell_type": "markdown",
   "metadata": {},
   "source": [
    "# Using cross validation for tuning the hyperparameters "
   ]
  },
  {
   "cell_type": "code",
   "execution_count": 3,
   "metadata": {
    "collapsed": true
   },
   "outputs": [],
   "source": [
    "cv = [] \n",
    "n_tr = []  \n",
    "for n_tree in range(1,100,5): \n",
    "    regr = RandomForestRegressor(n_estimators= n_tree, criterion='mse', max_depth= 5, max_features='sqrt', bootstrap=True, random_state=42)\n",
    "    cv.append(np.mean(-cross_val_score(regr, X, Y, cv = 4, scoring = 'neg_mean_squared_error')))     \n",
    "    n_tr.append(n_tree)    "
   ]
  },
  {
   "cell_type": "code",
   "execution_count": 4,
   "metadata": {
    "scrolled": true
   },
   "outputs": [
    {
     "data": {
      "image/png": "[encoded data removed]",
      "text/plain": [
       "<matplotlib.figure.Figure at 0x66ce080>"
      ]
     },
     "metadata": {},
     "output_type": "display_data"
    }
   ],
   "source": [
    "plt.plot(n_tr,cv)  \n",
    "plt.xlabel('number of trees') \n",
    "plt.ylabel('mse (cross validation)') \n",
    "plt.show() \n",
    "#print n_tr[cv.index(min(cv))] \n",
    "#print min(cv) "
   ]
  },
  {
   "cell_type": "code",
   "execution_count": 5,
   "metadata": {
    "collapsed": true
   },
   "outputs": [],
   "source": [
    "cv1 = []   \n",
    "d_tr = []  \n",
    "for d in range(1,7): \n",
    "    regr = RandomForestRegressor(n_estimators= 36, criterion='mse', max_depth= d, max_features='sqrt', bootstrap=True, random_state=42)\n",
    "    cv1.append(np.mean(cross_val_score(regr, X, Y, cv = 4, scoring = 'neg_mean_squared_error')))      \n",
    "    d_tr.append(d) "
   ]
  },
  {
   "cell_type": "code",
   "execution_count": 6,
   "metadata": {},
   "outputs": [
    {
     "data": {
      "image/png": "[encoded data removed]",
      "text/plain": [
       "<matplotlib.figure.Figure at 0xa0e2a90>"
      ]
     },
     "metadata": {},
     "output_type": "display_data"
    }
   ],
   "source": [
    "plt.plot(d_tr,cv1)    \n",
    "plt.xlabel('depth of the tree')\n",
    "plt.ylabel('cross validation accuracy')\n",
    "plt.show() \n",
    "#print d_tr[cv1.index(min(cv1))]\n",
    "#print min(cv) "
   ]
  },
  {
   "cell_type": "markdown",
   "metadata": {},
   "source": [
    "# Creating the model class for regression"
   ]
  },
  {
   "cell_type": "code",
   "execution_count": 7,
   "metadata": {
    "collapsed": true
   },
   "outputs": [],
   "source": [
    "regr = RandomForestRegressor(n_estimators= 36, criterion='mse', max_depth= 5,max_features='sqrt', bootstrap=True, random_state=42)"
   ]
  },
  {
   "cell_type": "code",
   "execution_count": 8,
   "metadata": {},
   "outputs": [
    {
     "data": {
      "text/plain": [
       "RandomForestRegressor(bootstrap=True, criterion='mse', max_depth=5,\n",
       "           max_features='sqrt', max_leaf_nodes=None,\n",
       "           min_impurity_decrease=0.0, min_impurity_split=None,\n",
       "           min_samples_leaf=1, min_samples_split=2,\n",
       "           min_weight_fraction_leaf=0.0, n_estimators=36, n_jobs=1,\n",
       "           oob_score=False, random_state=42, verbose=0, warm_start=False)"
      ]
     },
     "execution_count": 8,
     "metadata": {},
     "output_type": "execute_result"
    }
   ],
   "source": [
    "regr.fit(X_train,Y_train)        #Training the model"
   ]
  },
  {
   "cell_type": "markdown",
   "metadata": {},
   "source": [
    "# Getting the importance of indiviual features"
   ]
  },
  {
   "cell_type": "code",
   "execution_count": 9,
   "metadata": {},
   "outputs": [
    {
     "data": {
      "text/plain": [
       "array([ 0.17517726,  0.3013134 ,  0.14647903,  0.16692311,  0.02820658,\n",
       "        0.10649102,  0.0754096 ])"
      ]
     },
     "execution_count": 9,
     "metadata": {},
     "output_type": "execute_result"
    }
   ],
   "source": [
    "regr.feature_importances_  "
   ]
  },
  {
   "cell_type": "markdown",
   "metadata": {},
   "source": [
    "# Getting the predictions"
   ]
  },
  {
   "cell_type": "code",
   "execution_count": 10,
   "metadata": {
    "scrolled": true
   },
   "outputs": [],
   "source": [
    "Y_pred = regr.predict(X_test)\n",
    "Y_pred_train = regr.predict(X_train)  "
   ]
  },
  {
   "cell_type": "markdown",
   "metadata": {},
   "source": [
    "# MSE and R2"
   ]
  },
  {
   "cell_type": "code",
   "execution_count": 11,
   "metadata": {},
   "outputs": [
    {
     "name": "stdout",
     "output_type": "stream",
     "text": [
      "Mean squared error (train): 4.54764799\n",
      "R2(train): 0.92\n"
     ]
    }
   ],
   "source": [
    "print(\"Mean squared error (train): %.8f\"\n",
    "      % mean_squared_error(Y_train,Y_pred_train))\n",
    "print(\"R2(train): %.2f\"\n",
    "      % r2_score(Y_train,Y_pred_train))   "
   ]
  },
  {
   "cell_type": "code",
   "execution_count": 12,
   "metadata": {},
   "outputs": [
    {
     "name": "stdout",
     "output_type": "stream",
     "text": [
      "Mean squared error (test): 7.42251248\n",
      "R2(test): 0.88\n"
     ]
    }
   ],
   "source": [
    "print(\"Mean squared error (test): %.8f\"\n",
    "      % mean_squared_error(Y_test,Y_pred))\n",
    "print(\"R2(test): %.2f\"\n",
    "      % r2_score(Y_test,Y_pred))  "
   ]
  },
  {
   "cell_type": "markdown",
   "metadata": {},
   "source": [
    "# Mean Absolute Error"
   ]
  },
  {
   "cell_type": "code",
   "execution_count": 13,
   "metadata": {
    "collapsed": true
   },
   "outputs": [],
   "source": [
    "def max_abs_error(data1,data2):\n",
    "    Y_error = []\n",
    "    for i in range(len(data1)): \n",
    "        Y_error.append(100*(abs(data1[i] - data2[i])/data1[i])) \n",
    "    return Y_error"
   ]
  },
  {
   "cell_type": "code",
   "execution_count": 14,
   "metadata": {},
   "outputs": [
    {
     "name": "stdout",
     "output_type": "stream",
     "text": [
      "50.6484279966\n",
      "33.5464242052\n"
     ]
    }
   ],
   "source": [
    "MAE_test = max_abs_error(Y_test, Y_pred)\n",
    "MAE_train = max_abs_error(Y_train, Y_pred_train)\n",
    "print max(MAE_test) \n",
    "print max(MAE_train)          "
   ]
  },
  {
   "cell_type": "markdown",
   "metadata": {},
   "source": [
    "# Maximum Absolute Error"
   ]
  },
  {
   "cell_type": "code",
   "execution_count": 15,
   "metadata": {},
   "outputs": [
    {
     "name": "stdout",
     "output_type": "stream",
     "text": [
      "mean_absolute_error(test): 1.86\n",
      "mean_absolute_error(train): 1.60\n"
     ]
    }
   ],
   "source": [
    "print(\"mean_absolute_error(test): %.2f\"\n",
    "      % mean_absolute_error(Y_test, Y_pred)) \n",
    "\n",
    "print(\"mean_absolute_error(train): %.2f\"\n",
    "      % mean_absolute_error(Y_train, Y_pred_train))   "
   ]
  }
 ],
 "metadata": {
  "kernelspec": {
   "display_name": "Python 2",
   "language": "python",
   "name": "python2"
  },
  "language_info": {
   "codemirror_mode": {
    "name": "ipython",
    "version": 2
   },
   "file_extension": ".py",
   "mimetype": "text/x-python",
   "name": "python",
   "nbconvert_exporter": "python",
   "pygments_lexer": "ipython2",
   "version": "2.7.14"
  }
 },
 "nbformat": 4,
 "nbformat_minor": 2
}
