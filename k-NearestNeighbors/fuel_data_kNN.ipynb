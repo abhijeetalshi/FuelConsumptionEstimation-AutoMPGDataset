{
 "cells": [
  {
   "cell_type": "code",
   "execution_count": 1,
   "metadata": {
    "collapsed": true
   },
   "outputs": [],
   "source": [
    "import matplotlib.pyplot as plt\n",
    "import numpy as np\n",
    "from sklearn.metrics import mean_squared_error, r2_score, mean_absolute_error\n",
    "from sklearn.model_selection import train_test_split, cross_val_score\n",
    "from sklearn.neighbors import KNeighborsRegressor"
   ]
  },
  {
   "cell_type": "markdown",
   "metadata": {},
   "source": [
    "# Importing and splitting the data "
   ]
  },
  {
   "cell_type": "code",
   "execution_count": 2,
   "metadata": {},
   "outputs": [
    {
     "name": "stdout",
     "output_type": "stream",
     "text": [
      "(98L, 7L)\n",
      "(294L, 7L)\n",
      "(98L,)\n",
      "(294L,)\n"
     ]
    }
   ],
   "source": [
    "data = np.genfromtxt(\"fuel_data.csv\", delimiter = ',') \n",
    "X = data.T[0:7].T\n",
    "Y = data.T[-1].T\n",
    "\n",
    "X_train, X_test, Y_train, Y_test = train_test_split(X, Y, test_size=0.75, random_state= 42)\n",
    "\n",
    "print np.shape(X_train)\n",
    "print np.shape(X_test)\n",
    "print np.shape(Y_train)\n",
    "print np.shape(Y_test)"
   ]
  },
  {
   "cell_type": "markdown",
   "metadata": {},
   "source": [
    "# Using cross validation for tuning the hyperparameters "
   ]
  },
  {
   "cell_type": "code",
   "execution_count": 3,
   "metadata": {
    "collapsed": true
   },
   "outputs": [],
   "source": [
    "cv = [] \n",
    "mse = []   \n",
    "k_list = [] \n",
    "mse_tr = [] \n",
    "for k in range(1,50): \n",
    "    neigh = KNeighborsRegressor(n_neighbors=k) \n",
    "    cv.append(np.mean(-cross_val_score(neigh, X, Y, cv = 4, scoring = 'neg_mean_squared_error')))  #cross validation error\n",
    "    neigh.fit(X_train,Y_train) \n",
    "    Y_pred = neigh.predict(X_test) \n",
    "    Y_pred_train = neigh.predict(X_train)   \n",
    "    mse.append(mean_squared_error(Y_test,Y_pred))              #error on test data\n",
    "    mse_tr.append(mean_squared_error(Y_train,Y_pred_train))    #error on train data\n",
    "    k_list.append(k)   "
   ]
  },
  {
   "cell_type": "code",
   "execution_count": 4,
   "metadata": {},
   "outputs": [
    {
     "data": {
      "image/png": "[encoded data removed]",
      "text/plain": [
       "<matplotlib.figure.Figure at 0xa2c4b00>"
      ]
     },
     "metadata": {},
     "output_type": "display_data"
    },
    {
     "data": {
      "image/png": "[encoded data removed]",
      "text/plain": [
       "<matplotlib.figure.Figure at 0xa2c4b38>"
      ]
     },
     "metadata": {},
     "output_type": "display_data"
    }
   ],
   "source": [
    "plt.plot(k_list,cv)\n",
    "plt.title('cross_validation_error') \n",
    "plt.xlabel('k')\n",
    "plt.ylabel('mse')\n",
    "plt.show()\n",
    "\n",
    "plt.plot(k_list,mse, label = 'test_accuracy')\n",
    "plt.plot(k_list,mse_tr,label = 'train_accuracy')\n",
    "plt.title('test and train mse')\n",
    "plt.xlabel('k') \n",
    "plt.ylabel('mse')  \n",
    "plt.legend() \n",
    "plt.show()  \n",
    "\n",
    "#print min(cv)\n",
    "#print max(r2)\n",
    "#print k_list[cv.index(min(cv))] "
   ]
  },
  {
   "cell_type": "markdown",
   "metadata": {},
   "source": [
    "# Creating the model class for regression"
   ]
  },
  {
   "cell_type": "code",
   "execution_count": 5,
   "metadata": {
    "collapsed": true
   },
   "outputs": [],
   "source": [
    "neigh = KNeighborsRegressor(n_neighbors= 10) "
   ]
  },
  {
   "cell_type": "code",
   "execution_count": 6,
   "metadata": {},
   "outputs": [
    {
     "data": {
      "text/plain": [
       "KNeighborsRegressor(algorithm='auto', leaf_size=30, metric='minkowski',\n",
       "          metric_params=None, n_jobs=1, n_neighbors=10, p=2,\n",
       "          weights='uniform')"
      ]
     },
     "execution_count": 6,
     "metadata": {},
     "output_type": "execute_result"
    }
   ],
   "source": [
    "neigh.fit(X_train,Y_train)     #training the model"
   ]
  },
  {
   "cell_type": "markdown",
   "metadata": {},
   "source": [
    "# Getting the predictions"
   ]
  },
  {
   "cell_type": "code",
   "execution_count": 7,
   "metadata": {},
   "outputs": [],
   "source": [
    "Y_pred = neigh.predict(X_test)\n",
    "Y_pred_train = neigh.predict(X_train)"
   ]
  },
  {
   "cell_type": "markdown",
   "metadata": {},
   "source": [
    "# MSE and R2"
   ]
  },
  {
   "cell_type": "code",
   "execution_count": 8,
   "metadata": {},
   "outputs": [
    {
     "name": "stdout",
     "output_type": "stream",
     "text": [
      "Mean squared error (train): 17.68262143\n",
      "R2(train): 0.71\n"
     ]
    }
   ],
   "source": [
    "print(\"Mean squared error (train): %.8f\"\n",
    "      % mean_squared_error(Y_train,Y_pred_train))\n",
    "print(\"R2(train): %.2f\"\n",
    "      % r2_score(Y_train,Y_pred_train))"
   ]
  },
  {
   "cell_type": "code",
   "execution_count": 9,
   "metadata": {},
   "outputs": [
    {
     "name": "stdout",
     "output_type": "stream",
     "text": [
      "Mean squared error (test): 17.89859422\n",
      "R2(test): 0.70\n"
     ]
    }
   ],
   "source": [
    "print(\"Mean squared error (test): %.8f\"\n",
    "      % mean_squared_error(Y_test,Y_pred))\n",
    "print(\"R2(test): %.2f\"\n",
    "      % r2_score(Y_test,Y_pred))"
   ]
  },
  {
   "cell_type": "markdown",
   "metadata": {},
   "source": [
    "# Mean Absolute Error"
   ]
  },
  {
   "cell_type": "code",
   "execution_count": 10,
   "metadata": {
    "collapsed": true
   },
   "outputs": [],
   "source": [
    "def max_abs_error(data1,data2):\n",
    "    Y_error = []\n",
    "    for i in range(len(data1)):\n",
    "        Y_error.append(100*abs(data1[i] - data2[i])/data1[i])\n",
    "    return Y_error"
   ]
  },
  {
   "cell_type": "code",
   "execution_count": 11,
   "metadata": {},
   "outputs": [
    {
     "name": "stdout",
     "output_type": "stream",
     "text": [
      "72.3888888889\n",
      "37.5\n"
     ]
    }
   ],
   "source": [
    "MAE_test = max_abs_error(Y_test, Y_pred)\n",
    "MAE_train = max_abs_error(Y_train, Y_pred_train)\n",
    "print max(MAE_test)\n",
    "print max(MAE_train)"
   ]
  },
  {
   "cell_type": "markdown",
   "metadata": {},
   "source": [
    "# Maximum Absolute Error"
   ]
  },
  {
   "cell_type": "code",
   "execution_count": 12,
   "metadata": {},
   "outputs": [
    {
     "name": "stdout",
     "output_type": "stream",
     "text": [
      "mean_absolute_error(test): 3.23\n",
      "mean_absolute_error(train): 3.04\n"
     ]
    }
   ],
   "source": [
    "print(\"mean_absolute_error(test): %.2f\"\n",
    "      % mean_absolute_error(Y_test, Y_pred)) \n",
    "\n",
    "print(\"mean_absolute_error(train): %.2f\"\n",
    "      % mean_absolute_error(Y_train, Y_pred_train))   "
   ]
  }
 ],
 "metadata": {
  "kernelspec": {
   "display_name": "Python 2",
   "language": "python",
   "name": "python2"
  },
  "language_info": {
   "codemirror_mode": {
    "name": "ipython",
    "version": 2
   },
   "file_extension": ".py",
   "mimetype": "text/x-python",
   "name": "python",
   "nbconvert_exporter": "python",
   "pygments_lexer": "ipython2",
   "version": "2.7.14"
  }
 },
 "nbformat": 4,
 "nbformat_minor": 2
}
